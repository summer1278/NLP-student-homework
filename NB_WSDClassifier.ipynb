{
  "nbformat": 4,
  "nbformat_minor": 0,
  "metadata": {
    "colab": {
      "name": "NB-WSDClassifier.ipynb",
      "provenance": [],
      "collapsed_sections": [],
      "authorship_tag": "ABX9TyNoeqx3pbt3rAjSPZpvkCpA",
      "include_colab_link": true
    },
    "kernelspec": {
      "name": "python3",
      "display_name": "Python 3"
    }
  },
  "cells": [
    {
      "cell_type": "markdown",
      "metadata": {
        "id": "view-in-github",
        "colab_type": "text"
      },
      "source": [
        "<a href=\"https://colab.research.google.com/github/summer1278/UoM-NLP-student-homework/blob/main/NB_WSDClassifier.ipynb\" target=\"_parent\"><img src=\"https://colab.research.google.com/assets/colab-badge.svg\" alt=\"Open In Colab\"/></a>"
      ]
    },
    {
      "cell_type": "code",
      "metadata": {
        "id": "zYs9m5iLRCPm"
      },
      "source": [
        "#let's take the provided information into python code first\n",
        "\n",
        "# bag-of-word features dictionary\n",
        "BoW_vocab = ['difficult', 'task', 'duty', 'control', 'lawyer', 'strong', 'liquor', 'work']\n",
        "# training examples in the table\n",
        "training_examples = [\n",
        "  ['difficult', 'task', 'lawyer'],\n",
        "  ['difficult', 'time', 'work'],\n",
        "  ['duty','hard', 'control', 'work'],\n",
        "  ['strong', 'liquor', 'dinner'],\n",
        "  ['liquor', 'pub', 'work'],\n",
        "  ['liquor', 'liquor', 'wine']\n",
        "]\n",
        "# and their sense labels\n",
        "senses = [2,2,2,1,1,1]\n",
        "# queries\n",
        "query_1 = ['liquor', 'lawyer', 'work']\n",
        "query_2 = ['task', 'work', 'duty', 'work']"
      ],
      "execution_count": null,
      "outputs": []
    },
    {
      "cell_type": "code",
      "metadata": {
        "id": "9M4hJq4hSves"
      },
      "source": [
        "import numpy as np\n",
        "# more options of NB classifier implementation: https://scikit-learn.org/stable/modules/naive_bayes.html\n",
        "from sklearn.naive_bayes import GaussianNB"
      ],
      "execution_count": null,
      "outputs": []
    },
    {
      "cell_type": "code",
      "metadata": {
        "id": "EsEEJAdITJ3z"
      },
      "source": [
        "# helper method to convert BOW features to a feature vector for trianing a classifier\n",
        "def get_BoW(example):\n",
        "  return [1 if w in example else 0 for w in BoW_vocab]"
      ],
      "execution_count": null,
      "outputs": []
    },
    {
      "cell_type": "code",
      "metadata": {
        "colab": {
          "base_uri": "https://localhost:8080/"
        },
        "id": "woSydGnvUWQ0",
        "outputId": "b7a92363-570c-40db-c81a-d9515f889bc9"
      },
      "source": [
        "# convert to feature vectors\n",
        "training_vectors = [get_BoW(example) for example in training_examples]\n",
        "training_vectors"
      ],
      "execution_count": null,
      "outputs": [
        {
          "output_type": "execute_result",
          "data": {
            "text/plain": [
              "[[1, 1, 0, 0, 1, 0, 0, 0],\n",
              " [1, 0, 0, 0, 0, 0, 0, 1],\n",
              " [0, 0, 1, 1, 0, 0, 0, 1],\n",
              " [0, 0, 0, 0, 0, 1, 1, 0],\n",
              " [0, 0, 0, 0, 0, 0, 1, 1],\n",
              " [0, 0, 0, 0, 0, 0, 1, 0]]"
            ]
          },
          "metadata": {
            "tags": []
          },
          "execution_count": 7
        }
      ]
    },
    {
      "cell_type": "code",
      "metadata": {
        "colab": {
          "base_uri": "https://localhost:8080/"
        },
        "id": "Eyy7wY9ZVoHy",
        "outputId": "738ffe59-e3e6-4ec2-9c69-8247f61f4988"
      },
      "source": [
        "clf = GaussianNB()\n",
        "clf.fit(training_vectors,senses)\n",
        "# predict query 1\n",
        "clf.predict([get_BoW(query_1)])[0]"
      ],
      "execution_count": null,
      "outputs": [
        {
          "output_type": "execute_result",
          "data": {
            "text/plain": [
              "1"
            ]
          },
          "metadata": {
            "tags": []
          },
          "execution_count": 12
        }
      ]
    },
    {
      "cell_type": "code",
      "metadata": {
        "colab": {
          "base_uri": "https://localhost:8080/"
        },
        "id": "huq27JDrf3V-",
        "outputId": "fd733ab9-7618-4f7a-babe-932107645080"
      },
      "source": [
        "# predict query 2\n",
        "clf.predict([get_BoW(query_2)])[0]"
      ],
      "execution_count": null,
      "outputs": [
        {
          "output_type": "execute_result",
          "data": {
            "text/plain": [
              "2"
            ]
          },
          "metadata": {
            "tags": []
          },
          "execution_count": 14
        }
      ]
    }
  ]
}
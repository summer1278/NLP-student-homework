{
  "nbformat": 4,
  "nbformat_minor": 0,
  "metadata": {
    "colab": {
      "name": "QA-transformers.ipynb",
      "provenance": [],
      "collapsed_sections": [],
      "authorship_tag": "ABX9TyOh21XLKJ0ZV/JrUDkWUhY4",
      "include_colab_link": true
    },
    "kernelspec": {
      "name": "python3",
      "display_name": "Python 3"
    },
    "language_info": {
      "name": "python"
    }
  },
  "cells": [
    {
      "cell_type": "markdown",
      "metadata": {
        "id": "view-in-github",
        "colab_type": "text"
      },
      "source": [
        "<a href=\"https://colab.research.google.com/github/summer1278/NLP-student-homework/blob/main/QA_transformers.ipynb\" target=\"_parent\"><img src=\"https://colab.research.google.com/assets/colab-badge.svg\" alt=\"Open In Colab\"/></a>"
      ]
    },
    {
      "cell_type": "markdown",
      "metadata": {
        "id": "CLR3ZuIXTMki"
      },
      "source": [
        "Let's isntall transformers package first."
      ]
    },
    {
      "cell_type": "code",
      "metadata": {
        "id": "cpTDS6sKTDIr"
      },
      "source": [
        "! pip install transformers"
      ],
      "execution_count": null,
      "outputs": []
    },
    {
      "cell_type": "markdown",
      "metadata": {
        "id": "3--UCzqoTelz"
      },
      "source": [
        "Here's an example of Question Answering (QA) from transformers (https://huggingface.co/transformers/usage.html#extractive-question-answering).\n",
        "\n",
        "The process of the task using a pre-trained bidirectional transformers (BERT) model is:\n",
        "- Instantiate a tokenizer and a model from the checkpoint name. The model is identified as a BERT model (https://arxiv.org/pdf/1810.04805.pdf) and loads it with the weights stored in the checkpoint.\n",
        "\n",
        "- Define a text and a few questions.\n",
        "\n",
        "- Iterate over the questions and build a sequence from the text and the current question, with the correct model-specific separators token type ids and attention masks\n",
        "\n",
        "- Pass this sequence through the model. This outputs a range of scores across the entire sequence tokens (question and text), for both the start and end positions.\n",
        "\n",
        "- Compute the softmax of the result to get probabilities over the tokens\n",
        "\n",
        "- Fetch the tokens from the identified start and stop values, convert those tokens to a string.\n",
        "\n",
        "- Print the results\n"
      ]
    },
    {
      "cell_type": "code",
      "metadata": {
        "colab": {
          "base_uri": "https://localhost:8080/"
        },
        "id": "Ewj9xcmFS5lG",
        "outputId": "5e618adf-6f68-4b60-f154-c56f13465779"
      },
      "source": [
        "from transformers import AutoTokenizer, AutoModelForQuestionAnswering\n",
        "import torch\n",
        "\n",
        "# load pre-trained BERT model\n",
        "tokenizer = AutoTokenizer.from_pretrained(\"deepset/bert-base-cased-squad2\")\n",
        "model = AutoModelForQuestionAnswering.from_pretrained(\"deepset/bert-base-cased-squad2\")\n",
        "\n",
        "# the text we want to extract answers from\n",
        "# where you can test a few other examples\n",
        "text = r\"\"\"\n",
        "🤗 Transformers (formerly known as pytorch-transformers and pytorch-pretrained-bert) provides general-purpose\n",
        "architectures (BERT, GPT-2, RoBERTa, XLM, DistilBert, XLNet…) for Natural Language Understanding (NLU) and Natural\n",
        "Language Generation (NLG) with over 32+ pretrained models in 100+ languages and deep interoperability between\n",
        "TensorFlow 2.0 and PyTorch.\n",
        "\"\"\"\n",
        "\n",
        "# questions you would like to ask\n",
        "questions = [\n",
        "    \"How many pretrained models are available in Transformers?\",\n",
        "    \"What does Transformers provide?\",\n",
        "    \"Transformers provides interoperability between which frameworks?\",\n",
        "]\n",
        "\n",
        "\n",
        "for question in questions:\n",
        "    inputs = tokenizer.encode_plus(question, text, add_special_tokens=True, return_tensors=\"pt\")\n",
        "    input_ids = inputs[\"input_ids\"].tolist()[0]\n",
        "\n",
        "    text_tokens = tokenizer.convert_ids_to_tokens(input_ids)\n",
        "    answer_start_scores, answer_end_scores = model(**inputs, return_dict=False) # this is different from the original tutrial to avoid a bug of wrong return type\n",
        "\n",
        "    answer_start = torch.argmax(\n",
        "        answer_start_scores\n",
        "    )  # get the most likely beginning of answer with the argmax of the score\n",
        "    answer_end = torch.argmax(answer_end_scores) + 1  # get the most likely end of answer with the argmax of the score\n",
        "\n",
        "    answer = tokenizer.convert_tokens_to_string(tokenizer.convert_ids_to_tokens(input_ids[answer_start:answer_end]))\n",
        "\n",
        "    print(f\"Question: {question}\")\n",
        "    print(f\"Answer: {answer}\\n\")"
      ],
      "execution_count": null,
      "outputs": [
        {
          "output_type": "stream",
          "text": [
            "Question: How many pretrained models are available in Transformers?\n",
            "Answer: over 32 +\n",
            "\n",
            "Question: What does Transformers provide?\n",
            "Answer: general - purpose architectures\n",
            "\n",
            "Question: Transformers provides interoperability between which frameworks?\n",
            "Answer: TensorFlow 2. 0 and PyTorch\n",
            "\n"
          ],
          "name": "stdout"
        }
      ]
    },
    {
      "cell_type": "code",
      "metadata": {
        "colab": {
          "base_uri": "https://localhost:8080/"
        },
        "id": "21hVj9-AZc0c",
        "outputId": "3292353f-dacc-4602-ecee-b90b6bfeaa44"
      },
      "source": [
        "# we can also use pre-implemented pipeline to simplify the process\n",
        "nlp = pipeline(\"question-answering\",model=model, tokenizer=tokenizer)\n",
        "for question in questions:\n",
        "    answer = nlp(question=question, context=text)\n",
        "    print(f\"Question: {question}\")\n",
        "    print(f\"Answer: {answer['answer']}\")\n",
        "    print(f\"Score: {answer['score']}\\n\")"
      ],
      "execution_count": null,
      "outputs": [
        {
          "output_type": "stream",
          "text": [
            "Question: How many pretrained models are available in Transformers?\n",
            "Answer: over 32+\n",
            "Score: 0.32048341631889343\n",
            "\n",
            "Question: What does Transformers provide?\n",
            "Answer: general-purpose\n",
            "architectures\n",
            "Score: 0.8302127122879028\n",
            "\n",
            "Question: Transformers provides interoperability between which frameworks?\n",
            "Answer: TensorFlow 2.0 and PyTorch\n",
            "Score: 0.8364729285240173\n",
            "\n"
          ],
          "name": "stdout"
        }
      ]
    }
  ]
}
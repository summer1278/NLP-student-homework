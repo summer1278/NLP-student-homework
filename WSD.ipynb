{
  "nbformat": 4,
  "nbformat_minor": 0,
  "metadata": {
    "colab": {
      "name": "WSD.ipynb",
      "provenance": [],
      "collapsed_sections": [],
      "authorship_tag": "ABX9TyNnsXfi9IMXpHADOJ4TUASO",
      "include_colab_link": true
    },
    "kernelspec": {
      "name": "python3",
      "display_name": "Python 3"
    }
  },
  "cells": [
    {
      "cell_type": "markdown",
      "metadata": {
        "id": "view-in-github",
        "colab_type": "text"
      },
      "source": [
        "<a href=\"https://colab.research.google.com/github/summer1278/UoM-NLP-student-homework/blob/main/WSD.ipynb\" target=\"_parent\"><img src=\"https://colab.research.google.com/assets/colab-badge.svg\" alt=\"Open In Colab\"/></a>"
      ]
    },
    {
      "cell_type": "code",
      "metadata": {
        "colab": {
          "base_uri": "https://localhost:8080/"
        },
        "id": "0yX52a12WdUH",
        "outputId": "5e135dfa-3020-4386-804d-f86698202872"
      },
      "source": [
        "import nltk\n",
        "nltk.download('wordnet')\n",
        "from nltk.corpus import wordnet as wn"
      ],
      "execution_count": null,
      "outputs": [
        {
          "output_type": "stream",
          "text": [
            "[nltk_data] Downloading package wordnet to /root/nltk_data...\n",
            "[nltk_data]   Unzipping corpora/wordnet.zip.\n"
          ],
          "name": "stdout"
        }
      ]
    },
    {
      "cell_type": "code",
      "metadata": {
        "colab": {
          "base_uri": "https://localhost:8080/"
        },
        "id": "Ezo8X72Q_Rct",
        "outputId": "649a1a2f-fcc2-4668-9c21-d0330b9b99a1"
      },
      "source": [
        "# find all senses of 'hard'\n",
        "for ss in wn.synsets('hard'):\n",
        "  print(ss, ss.definition())"
      ],
      "execution_count": null,
      "outputs": [
        {
          "output_type": "stream",
          "text": [
            "Synset('difficult.a.01') not easy; requiring great physical or mental effort to accomplish or comprehend or endure\n",
            "Synset('hard.a.02') dispassionate; \n",
            "Synset('hard.a.03') resisting weight or pressure\n",
            "Synset('hard.s.04') very strong or vigorous\n",
            "Synset('arduous.s.01') characterized by effort to the point of exhaustion; especially physical effort\n",
            "Synset('unvoiced.a.01') produced without vibration of the vocal cords\n",
            "Synset('hard.a.07') (of light) transmitted directly from a pointed light source\n",
            "Synset('hard.a.08') (of speech sounds); produced with the back of the tongue raised toward or touching the velum\n",
            "Synset('intemperate.s.03') given to excessive indulgence of bodily appetites especially for intoxicating liquors\n",
            "Synset('hard.s.10') being distilled rather than fermented; having a high alcoholic content\n",
            "Synset('hard.s.11') unfortunate or hard to bear\n",
            "Synset('hard.s.12') dried out\n",
            "Synset('hard.r.01') with effort or force or vigor\n",
            "Synset('hard.r.02') with firmness\n",
            "Synset('hard.r.03') earnestly or intently\n",
            "Synset('hard.r.04') causing great damage or hardship\n",
            "Synset('hard.r.05') slowly and with difficulty\n",
            "Synset('heavily.r.07') indulging excessively\n",
            "Synset('hard.r.07') into a solid condition\n",
            "Synset('hard.r.08') very near or close in space or time\n",
            "Synset('hard.r.09') with pain or distress or bitterness\n",
            "Synset('hard.r.10') to the full extent possible; all the way\n"
          ],
          "name": "stdout"
        }
      ]
    },
    {
      "cell_type": "code",
      "metadata": {
        "id": "IZdHe54aWhhD"
      },
      "source": [
        "# our sentence\n",
        "target_sentence = 'Although X-ray is heavily researched in Japan,  it is very difficult to use to draw lines on a chip because the X-ray particles are hard to control'"
      ],
      "execution_count": null,
      "outputs": []
    },
    {
      "cell_type": "code",
      "metadata": {
        "id": "tailwwIh_KT-"
      },
      "source": [
        "from nltk.wsd import lesk"
      ],
      "execution_count": null,
      "outputs": []
    },
    {
      "cell_type": "code",
      "metadata": {
        "colab": {
          "base_uri": "https://localhost:8080/"
        },
        "id": "ZYB2o4RDAZee",
        "outputId": "8360a7fa-8cc0-44f0-f230-0d7e1301bcd5"
      },
      "source": [
        "# lesk implementation from ntlk accepts a list of words (context) as input\n",
        "print(lesk(target_sentence.split(), 'hard'))"
      ],
      "execution_count": null,
      "outputs": [
        {
          "output_type": "stream",
          "text": [
            "Synset('hard.s.11')\n"
          ],
          "name": "stdout"
        }
      ]
    },
    {
      "cell_type": "code",
      "metadata": {
        "colab": {
          "base_uri": "https://localhost:8080/"
        },
        "id": "NsDSEoKAA-F8",
        "outputId": "090d9fd0-d48a-494d-e848-617906ca7c2a"
      },
      "source": [
        "# if we specifiy the POS tag for 'hard' as adj, the result is different\n",
        "print(lesk(target_sentence.split(), 'hard',pos = 'a'))"
      ],
      "execution_count": null,
      "outputs": [
        {
          "output_type": "stream",
          "text": [
            "Synset('unvoiced.a.01')\n"
          ],
          "name": "stdout"
        }
      ]
    },
    {
      "cell_type": "code",
      "metadata": {
        "colab": {
          "base_uri": "https://localhost:8080/"
        },
        "id": "TCOmVWAzBeGM",
        "outputId": "fc0a69e4-724d-4a35-f716-5a5164915390"
      },
      "source": [
        "# let's try another word 'control'\n",
        "for ss in wn.synsets('control'):\n",
        "  print(ss, ss.definition())"
      ],
      "execution_count": null,
      "outputs": [
        {
          "output_type": "stream",
          "text": [
            "Synset('control.n.01') power to direct or determine\n",
            "Synset('control.n.02') a relation of constraint of one entity (thing or person or group) by another\n",
            "Synset('control.n.03') (physiology) regulation or maintenance of a function or action or reflex etc\n",
            "Synset('control_condition.n.01') a standard against which other conditions can be compared in a scientific experiment\n",
            "Synset('control.n.05') the activity of managing or exerting control over something\n",
            "Synset('dominance.n.02') the state that exists when one person or group has power over another\n",
            "Synset('restraint.n.02') discipline in personal and social activities\n",
            "Synset('command.n.06') great skillfulness and knowledge of some subject or activity\n",
            "Synset('control.n.09') a mechanism that controls the operation of a machine\n",
            "Synset('control.n.10') a spiritual agency that is assumed to assist the medium during a seance\n",
            "Synset('control.n.11') the economic policy of controlling or limiting or curbing prices or wages etc.\n",
            "Synset('control.v.01') exercise authoritative control or power over\n",
            "Synset('control.v.02') lessen the intensity of; temper; hold in restraint; hold or keep within limits\n",
            "Synset('operate.v.03') handle and cause to function\n",
            "Synset('manipulate.v.05') control (others or oneself) or influence skillfully, usually to one's advantage\n",
            "Synset('control.v.05') check or regulate (a scientific experiment) by conducting a parallel experiment or comparing with another standard\n",
            "Synset('control.v.06') verify by using a duplicate register for comparison\n",
            "Synset('see.v.10') be careful or certain to do something; make certain of something\n",
            "Synset('master.v.04') have a firm understanding or knowledge of; be on top of\n"
          ],
          "name": "stdout"
        }
      ]
    },
    {
      "cell_type": "code",
      "metadata": {
        "colab": {
          "base_uri": "https://localhost:8080/"
        },
        "id": "E3Dm3gV8Bsdc",
        "outputId": "cea95fd0-702a-4b64-e326-17f530834abe"
      },
      "source": [
        "print(lesk(target_sentence.split(), 'control'))"
      ],
      "execution_count": null,
      "outputs": [
        {
          "output_type": "stream",
          "text": [
            "Synset('control.n.10')\n"
          ],
          "name": "stdout"
        }
      ]
    },
    {
      "cell_type": "code",
      "metadata": {
        "colab": {
          "base_uri": "https://localhost:8080/"
        },
        "id": "1gciLXyrBtvs",
        "outputId": "1dd9d9ce-0b24-459e-9826-982202248c8e"
      },
      "source": [
        "# in the target sentence, the word 'control' is verb\n",
        "verb_control_sense = lesk(target_sentence.split(), 'control', pos = 'v')\n",
        "print(verb_control_sense)"
      ],
      "execution_count": null,
      "outputs": [
        {
          "output_type": "stream",
          "text": [
            "Synset('master.v.04')\n"
          ],
          "name": "stdout"
        }
      ]
    },
    {
      "cell_type": "code",
      "metadata": {
        "id": "WWcKlu_9CLKU",
        "colab": {
          "base_uri": "https://localhost:8080/",
          "height": 35
        },
        "outputId": "786f438c-afae-4087-8a10-73fa291bab54"
      },
      "source": [
        "verb_control_sense.definition()"
      ],
      "execution_count": null,
      "outputs": [
        {
          "output_type": "execute_result",
          "data": {
            "application/vnd.google.colaboratory.intrinsic+json": {
              "type": "string"
            },
            "text/plain": [
              "'have a firm understanding or knowledge of; be on top of'"
            ]
          },
          "metadata": {
            "tags": []
          },
          "execution_count": 16
        }
      ]
    }
  ]
}
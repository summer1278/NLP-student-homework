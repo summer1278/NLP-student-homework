{
  "nbformat": 4,
  "nbformat_minor": 0,
  "metadata": {
    "colab": {
      "name": "SVD.ipynb",
      "provenance": [],
      "authorship_tag": "ABX9TyOlpeyl55P0xNDnh3b1O6WO",
      "include_colab_link": true
    },
    "kernelspec": {
      "name": "python3",
      "display_name": "Python 3"
    }
  },
  "cells": [
    {
      "cell_type": "markdown",
      "metadata": {
        "id": "view-in-github",
        "colab_type": "text"
      },
      "source": [
        "<a href=\"https://colab.research.google.com/github/summer1278/UoM-NLP-student-homework/blob/main/SVD.ipynb\" target=\"_parent\"><img src=\"https://colab.research.google.com/assets/colab-badge.svg\" alt=\"Open In Colab\"/></a>"
      ]
    },
    {
      "cell_type": "code",
      "metadata": {
        "id": "UAKcdQc5Y1gd"
      },
      "source": [
        "# take the matrix in Q1 into python\n",
        "M = [[1,1,0,0],\n",
        "     [1,1,0,0],\n",
        "     [0,0,1,1],\n",
        "     [0,0,1,1],\n",
        "     [1,1,0,1]]"
      ],
      "execution_count": null,
      "outputs": []
    },
    {
      "cell_type": "code",
      "metadata": {
        "id": "MMSirM69ZuVj"
      },
      "source": [
        "import numpy as np\n",
        "from numpy.linalg import svd,matrix_rank"
      ],
      "execution_count": null,
      "outputs": []
    },
    {
      "cell_type": "code",
      "metadata": {
        "id": "pJRsa-9xaBtS"
      },
      "source": [
        "u,s,v = svd(M)"
      ],
      "execution_count": null,
      "outputs": []
    },
    {
      "cell_type": "code",
      "metadata": {
        "colab": {
          "base_uri": "https://localhost:8080/"
        },
        "id": "hSEBXPs_aTS0",
        "outputId": "db35d7e6-d40d-4e69-a213-9a7bea8ef383"
      },
      "source": [
        "u"
      ],
      "execution_count": null,
      "outputs": [
        {
          "output_type": "execute_result",
          "data": {
            "text/plain": [
              "array([[-4.80868748e-01, -3.16227766e-01, -4.10810477e-01,\n",
              "         7.06536343e-01, -2.83971044e-02],\n",
              "       [-4.80868748e-01, -3.16227766e-01, -4.10810477e-01,\n",
              "        -7.06536343e-01,  2.83971044e-02],\n",
              "       [-2.40434374e-01,  6.32455532e-01, -2.05405238e-01,\n",
              "         2.83971044e-02,  7.06536343e-01],\n",
              "       [-2.40434374e-01,  6.32455532e-01, -2.05405238e-01,\n",
              "        -2.83971044e-02, -7.06536343e-01],\n",
              "       [-6.49548396e-01,  1.12933584e-16,  7.60320249e-01,\n",
              "         3.21230134e-16, -4.28154385e-17]])"
            ]
          },
          "metadata": {
            "tags": []
          },
          "execution_count": 7
        }
      ]
    },
    {
      "cell_type": "code",
      "metadata": {
        "colab": {
          "base_uri": "https://localhost:8080/"
        },
        "id": "4_YdoNg_aUwr",
        "outputId": "9a4fea05-c973-4f46-a933-07ca246a4eed"
      },
      "source": [
        "s # singular values"
      ],
      "execution_count": null,
      "outputs": [
        {
          "output_type": "execute_result",
          "data": {
            "text/plain": [
              "array([2.58873755e+00, 2.00000000e+00, 5.46294684e-01, 2.58347579e-17])"
            ]
          },
          "metadata": {
            "tags": []
          },
          "execution_count": 8
        }
      ]
    },
    {
      "cell_type": "code",
      "metadata": {
        "colab": {
          "base_uri": "https://localhost:8080/"
        },
        "id": "yXbKRSfAaViz",
        "outputId": "6ac7df11-c2bd-43ec-8fd0-7dd09f6534d0"
      },
      "source": [
        "v"
      ],
      "execution_count": null,
      "outputs": [
        {
          "output_type": "execute_result",
          "data": {
            "text/plain": [
              "array([[-6.22421492e-01, -6.22421492e-01, -1.85754151e-01,\n",
              "        -4.36667341e-01],\n",
              "       [-3.16227766e-01, -3.16227766e-01,  6.32455532e-01,\n",
              "         6.32455532e-01],\n",
              "       [-1.12211790e-01, -1.12211790e-01, -7.51994279e-01,\n",
              "         6.39782489e-01],\n",
              "       [-7.07106781e-01,  7.07106781e-01,  2.78693431e-17,\n",
              "        -1.23559868e-16]])"
            ]
          },
          "metadata": {
            "tags": []
          },
          "execution_count": 9
        }
      ]
    },
    {
      "cell_type": "code",
      "metadata": {
        "colab": {
          "base_uri": "https://localhost:8080/"
        },
        "id": "jUyCa4JYagBr",
        "outputId": "137ae2fc-4328-4b66-efc0-ce06dd7f251f"
      },
      "source": [
        "k = matrix_rank(M)\n",
        "k"
      ],
      "execution_count": null,
      "outputs": [
        {
          "output_type": "execute_result",
          "data": {
            "text/plain": [
              "3"
            ]
          },
          "metadata": {
            "tags": []
          },
          "execution_count": 33
        }
      ]
    },
    {
      "cell_type": "code",
      "metadata": {
        "colab": {
          "base_uri": "https://localhost:8080/"
        },
        "id": "nvRP6d9DaoGr",
        "outputId": "c1f9a0bb-1341-4e64-e909-d781c51d8f4b"
      },
      "source": [
        "# based on the rank k = 3, we will take top 3 left and right singular vectors\n",
        "U = u[:,:k]\n",
        "U"
      ],
      "execution_count": null,
      "outputs": [
        {
          "output_type": "execute_result",
          "data": {
            "text/plain": [
              "array([[-4.80868748e-01, -3.16227766e-01, -4.10810477e-01],\n",
              "       [-4.80868748e-01, -3.16227766e-01, -4.10810477e-01],\n",
              "       [-2.40434374e-01,  6.32455532e-01, -2.05405238e-01],\n",
              "       [-2.40434374e-01,  6.32455532e-01, -2.05405238e-01],\n",
              "       [-6.49548396e-01,  1.12933584e-16,  7.60320249e-01]])"
            ]
          },
          "metadata": {
            "tags": []
          },
          "execution_count": 34
        }
      ]
    },
    {
      "cell_type": "code",
      "metadata": {
        "colab": {
          "base_uri": "https://localhost:8080/"
        },
        "id": "PJ3lET60d2J7",
        "outputId": "c2e81950-2075-42a1-dd1c-d8b40b6b978e"
      },
      "source": [
        "S = np.diag(s)[:k,:k]\n",
        "S"
      ],
      "execution_count": null,
      "outputs": [
        {
          "output_type": "execute_result",
          "data": {
            "text/plain": [
              "array([[2.58873755, 0.        , 0.        ],\n",
              "       [0.        , 2.        , 0.        ],\n",
              "       [0.        , 0.        , 0.54629468]])"
            ]
          },
          "metadata": {
            "tags": []
          },
          "execution_count": 50
        }
      ]
    },
    {
      "cell_type": "code",
      "metadata": {
        "colab": {
          "base_uri": "https://localhost:8080/"
        },
        "id": "hUrmXEsnbiSC",
        "outputId": "bbb26986-1f7c-469a-cb10-abda8259fc74"
      },
      "source": [
        "V = v[:,:k]\n",
        "V"
      ],
      "execution_count": null,
      "outputs": [
        {
          "output_type": "execute_result",
          "data": {
            "text/plain": [
              "array([[-6.22421492e-01, -6.22421492e-01, -1.85754151e-01],\n",
              "       [-3.16227766e-01, -3.16227766e-01,  6.32455532e-01],\n",
              "       [-1.12211790e-01, -1.12211790e-01, -7.51994279e-01],\n",
              "       [-7.07106781e-01,  7.07106781e-01,  2.78693431e-17]])"
            ]
          },
          "metadata": {
            "tags": []
          },
          "execution_count": 52
        }
      ]
    },
    {
      "cell_type": "code",
      "metadata": {
        "colab": {
          "base_uri": "https://localhost:8080/"
        },
        "id": "N7Ve4h04brPC",
        "outputId": "ae659911-6fc9-4d14-81e2-20ab69bb3f39"
      },
      "source": [
        "# term vectors\n",
        "dense_term = np.matmul(V,S)\n",
        "dense_term"
      ],
      "execution_count": null,
      "outputs": [
        {
          "output_type": "execute_result",
          "data": {
            "text/plain": [
              "array([[-1.61128589e+00, -1.24484298e+00, -1.01476505e-01],\n",
              "       [-8.18630693e-01, -6.32455532e-01,  3.45507095e-01],\n",
              "       [-2.90486874e-01, -2.24423579e-01, -4.10810477e-01],\n",
              "       [-1.83051388e+00,  1.41421356e+00,  1.52248740e-17]])"
            ]
          },
          "metadata": {
            "tags": []
          },
          "execution_count": 55
        }
      ]
    },
    {
      "cell_type": "code",
      "metadata": {
        "colab": {
          "base_uri": "https://localhost:8080/"
        },
        "id": "WQlTVLlUcyR7",
        "outputId": "7b4b7fd8-651a-4217-8b9e-b09689d720e5"
      },
      "source": [
        "# document vectors\n",
        "dense_doc = np.matmul(U,S)\n",
        "dense_doc"
      ],
      "execution_count": null,
      "outputs": [
        {
          "output_type": "execute_result",
          "data": {
            "text/plain": [
              "array([[-1.24484298e+00, -6.32455532e-01, -2.24423579e-01],\n",
              "       [-1.24484298e+00, -6.32455532e-01, -2.24423579e-01],\n",
              "       [-6.22421492e-01,  1.26491106e+00, -1.12211790e-01],\n",
              "       [-6.22421492e-01,  1.26491106e+00, -1.12211790e-01],\n",
              "       [-1.68151033e+00,  2.25867167e-16,  4.15358910e-01]])"
            ]
          },
          "metadata": {
            "tags": []
          },
          "execution_count": 56
        }
      ]
    },
    {
      "cell_type": "code",
      "metadata": {
        "id": "vAznmJ8pgcAa"
      },
      "source": [
        "# let's implement the cosine similarity function\n",
        "from numpy import dot\n",
        "from numpy.linalg import norm\n",
        "def cos_sim(a, b):\n",
        "  return dot(a, b)/(norm(a)*norm(b))"
      ],
      "execution_count": null,
      "outputs": []
    },
    {
      "cell_type": "code",
      "metadata": {
        "colab": {
          "base_uri": "https://localhost:8080/"
        },
        "id": "WxKCql4hg_qP",
        "outputId": "492bca00-31bb-4816-94d9-37fd766521e6"
      },
      "source": [
        "# get the term vector for each term index\n",
        "# matrix \n",
        "v_matrix = dense_term[0]\n",
        "v_matrix"
      ],
      "execution_count": null,
      "outputs": [
        {
          "output_type": "execute_result",
          "data": {
            "text/plain": [
              "array([-1.61128589, -1.24484298, -0.10147651])"
            ]
          },
          "metadata": {
            "tags": []
          },
          "execution_count": 59
        }
      ]
    },
    {
      "cell_type": "code",
      "metadata": {
        "colab": {
          "base_uri": "https://localhost:8080/"
        },
        "id": "PQenV8FThXAP",
        "outputId": "3f9ddb0e-5a3c-4177-dfd1-a3f9922d2c44"
      },
      "source": [
        "# factorization\n",
        "v_factorization = dense_term[1]\n",
        "v_factorization"
      ],
      "execution_count": null,
      "outputs": [
        {
          "output_type": "execute_result",
          "data": {
            "text/plain": [
              "array([-0.81863069, -0.63245553,  0.34550709])"
            ]
          },
          "metadata": {
            "tags": []
          },
          "execution_count": 60
        }
      ]
    },
    {
      "cell_type": "code",
      "metadata": {
        "colab": {
          "base_uri": "https://localhost:8080/"
        },
        "id": "rNx6kVCjhYcQ",
        "outputId": "3b5b1311-4bf6-4abc-e2a3-d189c339506a"
      },
      "source": [
        "# processing\n",
        "v_processing = dense_term[3]\n",
        "v_processing"
      ],
      "execution_count": null,
      "outputs": [
        {
          "output_type": "execute_result",
          "data": {
            "text/plain": [
              "array([-1.83051388e+00,  1.41421356e+00,  1.52248740e-17])"
            ]
          },
          "metadata": {
            "tags": []
          },
          "execution_count": 62
        }
      ]
    },
    {
      "cell_type": "code",
      "metadata": {
        "colab": {
          "base_uri": "https://localhost:8080/"
        },
        "id": "bhCPanLthc9I",
        "outputId": "9f235716-d999-4c8b-c664-213bd7a75f95"
      },
      "source": [
        "# natural language\n",
        "v_nl = dense_term[2]\n",
        "v_nl"
      ],
      "execution_count": null,
      "outputs": [
        {
          "output_type": "execute_result",
          "data": {
            "text/plain": [
              "array([-0.29048687, -0.22442358, -0.41081048])"
            ]
          },
          "metadata": {
            "tags": []
          },
          "execution_count": 61
        }
      ]
    },
    {
      "cell_type": "code",
      "metadata": {
        "colab": {
          "base_uri": "https://localhost:8080/"
        },
        "id": "S_k0Lx9rhocf",
        "outputId": "09e391ca-64e2-427b-ad89-53af451b21b7"
      },
      "source": [
        "cos_sim(v_matrix,v_factorization)"
      ],
      "execution_count": null,
      "outputs": [
        {
          "output_type": "execute_result",
          "data": {
            "text/plain": [
              "0.9315521525428485"
            ]
          },
          "metadata": {
            "tags": []
          },
          "execution_count": 63
        }
      ]
    },
    {
      "cell_type": "code",
      "metadata": {
        "colab": {
          "base_uri": "https://localhost:8080/"
        },
        "id": "LGBGWL8nh9dY",
        "outputId": "b49e2d75-f50e-452d-8349-ead631cf9984"
      },
      "source": [
        "cos_sim(v_matrix,v_processing)"
      ],
      "execution_count": null,
      "outputs": [
        {
          "output_type": "execute_result",
          "data": {
            "text/plain": [
              "0.25213265791673073"
            ]
          },
          "metadata": {
            "tags": []
          },
          "execution_count": 64
        }
      ]
    },
    {
      "cell_type": "code",
      "metadata": {
        "colab": {
          "base_uri": "https://localhost:8080/"
        },
        "id": "02YJIr9qiDnQ",
        "outputId": "58c219a1-a49c-46d7-b987-f0ee24d6f302"
      },
      "source": [
        "cos_sim(v_matrix,v_nl)"
      ],
      "execution_count": null,
      "outputs": [
        {
          "output_type": "execute_result",
          "data": {
            "text/plain": [
              "0.7025955457771914"
            ]
          },
          "metadata": {
            "tags": []
          },
          "execution_count": 65
        }
      ]
    }
  ]
}
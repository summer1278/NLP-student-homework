{
  "nbformat": 4,
  "nbformat_minor": 0,
  "metadata": {
    "colab": {
      "name": "term-context matrix.ipynb",
      "provenance": [],
      "collapsed_sections": [],
      "authorship_tag": "ABX9TyOneoyFWQdILqtX/lXqHRxG",
      "include_colab_link": true
    },
    "kernelspec": {
      "name": "python3",
      "display_name": "Python 3"
    }
  },
  "cells": [
    {
      "cell_type": "markdown",
      "metadata": {
        "id": "view-in-github",
        "colab_type": "text"
      },
      "source": [
        "<a href=\"https://colab.research.google.com/github/summer1278/UoM-NLP-student-homework/blob/main/term_context_matrix.ipynb\" target=\"_parent\"><img src=\"https://colab.research.google.com/assets/colab-badge.svg\" alt=\"Open In Colab\"/></a>"
      ]
    },
    {
      "cell_type": "code",
      "metadata": {
        "id": "3f8mWVf7sQPP"
      },
      "source": [
        "dict_list = ['large', 'scale', 'matrix', 'factorization', 'algorithm', 'software', 'non-negative', 'develop', 'introduction', 'module', 'natural', 'language', 'processing', 'linear', 'algebra', 'sparse']\n",
        "sentences = ['There is a high demand in large scale matrix factorization algorithm',\n",
        "  'Various softwares have been develop for non-negative matrix factorization',\n",
        "  'This is an introduction module to natural language processing',\n",
        "  'Linear algebra is important in many natural language processing problems',\n",
        "  'The factorization approach can be used for processing sparse matrix '\n",
        "]\n",
        "terms = ['matrix','factorization','natural language','processing']"
      ],
      "execution_count": null,
      "outputs": []
    },
    {
      "cell_type": "code",
      "metadata": {
        "colab": {
          "base_uri": "https://localhost:8080/"
        },
        "id": "ft_qP3e3E7Au",
        "outputId": "3a90f57e-fd92-4608-ebac-4e241966299d"
      },
      "source": [
        "# let's first split the sentences into lists of words and do some pre-processing\n",
        "new_corpus = [sentence.strip().split() for sentence in sentences]\n",
        "corpus = []\n",
        "for sentence in new_corpus:\n",
        "  new_sent = []\n",
        "  for word in sentence:\n",
        "    # print(word)\n",
        "    temp = word.lower()\n",
        "    new_sent.append(temp)\n",
        "  corpus.append(new_sent)"
      ],
      "execution_count": null,
      "outputs": [
        {
          "output_type": "stream",
          "text": [
            "[['There', 'is', 'a', 'high', 'demand', 'in', 'large', 'scale', 'matrix', 'factorization', 'algorithm'], ['Various', 'softwares', 'have', 'been', 'develop', 'for', 'non-negative', 'matrix', 'factorization'], ['This', 'is', 'an', 'introduction', 'module', 'to', 'natural', 'language', 'processing'], ['Linear', 'algebra', 'is', 'important', 'in', 'many', 'natural', 'language', 'processing', 'problems'], ['The', 'factorization', 'approach', 'can', 'be', 'used', 'for', 'processing', 'sparse', 'matrix']]\n"
          ],
          "name": "stdout"
        }
      ]
    },
    {
      "cell_type": "code",
      "metadata": {
        "id": "afc9PGFBtz5f"
      },
      "source": [
        "import numpy as np\n",
        "# compute co-occurrence matrix for the given corpus and dict_list within +/-2 window_size\n",
        "def compute_co_occurrence_matrix(corpus, window_size=2):\n",
        "    words = dict_list\n",
        "    num_words = len(dict_list)\n",
        "    num_terms = len(terms)\n",
        "    M = None\n",
        "    word2Ind = {}\n",
        "    term2Ind = {}\n",
        "\n",
        "    for i in range(num_terms):\n",
        "        term2Ind[terms[i]] = i\n",
        "    for i in range(num_words):\n",
        "        word2Ind[words[i]] = i\n",
        "    # initialize the matrix with zeros\n",
        "    M = np.zeros((num_terms,num_words))\n",
        "    for line in corpus:\n",
        "        for i in range(len(line)):\n",
        "            target = line[i]\n",
        "            if target in terms:\n",
        "              target_index = term2Ind[target]\n",
        "              left = max(i - window_size, 0)\n",
        "              right = min(i + window_size, len(line) - 1)\n",
        "              # check the words on the left side in the window\n",
        "              for j in range(left, i):\n",
        "                  window_word = line[j]\n",
        "                  if window_word in words:\n",
        "                    M[target_index][word2Ind[window_word]] += 1\n",
        "                    if window_word in terms:\n",
        "                      M[term2Ind[window_word]][word2Ind[window_word]] += 1\n",
        "              # check the words on the right side in the window\n",
        "              for j in range(i+1,right+1):\n",
        "                window_word = line[j]\n",
        "                if window_word in words:\n",
        "                  M[target_index][word2Ind[window_word]] += 1\n",
        "                  if window_word in terms:\n",
        "                    M[term2Ind[window_word]][word2Ind[window_word]] += 1\n",
        "    return M, word2Ind,term2Ind"
      ],
      "execution_count": null,
      "outputs": []
    },
    {
      "cell_type": "code",
      "metadata": {
        "id": "hWKy5bd08Ocz"
      },
      "source": [
        "M, word2Ind, term2Ind = compute_co_occurrence_matrix(corpus)"
      ],
      "execution_count": null,
      "outputs": []
    },
    {
      "cell_type": "code",
      "metadata": {
        "colab": {
          "base_uri": "https://localhost:8080/"
        },
        "id": "TPkM-YKLIrr_",
        "outputId": "b87ca104-6c36-4104-e70a-d0787dd5bd7d"
      },
      "source": [
        "print(term2Ind)"
      ],
      "execution_count": null,
      "outputs": [
        {
          "output_type": "stream",
          "text": [
            "{'matrix': 0, 'factorization': 1, 'natural language': 2, 'processing': 3}\n"
          ],
          "name": "stdout"
        }
      ]
    },
    {
      "cell_type": "code",
      "metadata": {
        "id": "4gvpWVpiPRWJ"
      },
      "source": [
        "# get the term vector using the term index\n",
        "matrix_vec = M[0]\n",
        "factorization_vec = M[1]\n",
        "processing_vec = M[3]"
      ],
      "execution_count": null,
      "outputs": []
    },
    {
      "cell_type": "code",
      "metadata": {
        "id": "H2xOh137RKiC"
      },
      "source": [
        "from numpy import dot\n",
        "from numpy.linalg import norm\n",
        "def cos_sim(a, b):\n",
        "  return dot(a, b)/(norm(a)*norm(b))"
      ],
      "execution_count": null,
      "outputs": []
    },
    {
      "cell_type": "code",
      "metadata": {
        "colab": {
          "base_uri": "https://localhost:8080/"
        },
        "id": "4Re0344-RViJ",
        "outputId": "b3586c67-756f-4ccc-f159-3aab26b27b16"
      },
      "source": [
        "cos_sim(matrix_vec,factorization_vec)"
      ],
      "execution_count": null,
      "outputs": [
        {
          "output_type": "execute_result",
          "data": {
            "text/plain": [
              "0.899228803025897"
            ]
          },
          "metadata": {
            "tags": []
          },
          "execution_count": 194
        }
      ]
    },
    {
      "cell_type": "code",
      "metadata": {
        "colab": {
          "base_uri": "https://localhost:8080/"
        },
        "id": "XrRyNpj1Rac7",
        "outputId": "8d4c041f-8123-4f8a-d368-c366ac4aad1f"
      },
      "source": [
        "cos_sim(matrix_vec,processing_vec)"
      ],
      "execution_count": null,
      "outputs": [
        {
          "output_type": "execute_result",
          "data": {
            "text/plain": [
              "0.3458572319330373"
            ]
          },
          "metadata": {
            "tags": []
          },
          "execution_count": 195
        }
      ]
    }
  ]
}
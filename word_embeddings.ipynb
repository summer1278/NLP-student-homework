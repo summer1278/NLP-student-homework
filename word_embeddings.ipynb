{
  "nbformat": 4,
  "nbformat_minor": 0,
  "metadata": {
    "colab": {
      "name": "word_emebeddings.ipynb",
      "provenance": [],
      "authorship_tag": "ABX9TyMOWrFXgg0ivd23KwvBKp9+",
      "include_colab_link": true
    },
    "kernelspec": {
      "name": "python3",
      "display_name": "Python 3"
    }
  },
  "cells": [
    {
      "cell_type": "markdown",
      "metadata": {
        "id": "view-in-github",
        "colab_type": "text"
      },
      "source": [
        "<a href=\"https://colab.research.google.com/github/summer1278/UoM-NLP-student-homework/blob/main/word_emebeddings.ipynb\" target=\"_parent\"><img src=\"https://colab.research.google.com/assets/colab-badge.svg\" alt=\"Open In Colab\"/></a>"
      ]
    },
    {
      "cell_type": "code",
      "metadata": {
        "colab": {
          "base_uri": "https://localhost:8080/"
        },
        "id": "era9LwysOyY2",
        "outputId": "59259507-9885-4845-edd1-98fca9505714"
      },
      "source": [
        "# gensim is installed on colab, you can use it directly\n",
        "!pip install gensim"
      ],
      "execution_count": null,
      "outputs": [
        {
          "output_type": "stream",
          "text": [
            "Requirement already satisfied: gensim in /usr/local/lib/python3.7/dist-packages (3.6.0)\n",
            "Requirement already satisfied: numpy>=1.11.3 in /usr/local/lib/python3.7/dist-packages (from gensim) (1.19.5)\n",
            "Requirement already satisfied: six>=1.5.0 in /usr/local/lib/python3.7/dist-packages (from gensim) (1.15.0)\n",
            "Requirement already satisfied: scipy>=0.18.1 in /usr/local/lib/python3.7/dist-packages (from gensim) (1.4.1)\n",
            "Requirement already satisfied: smart-open>=1.2.1 in /usr/local/lib/python3.7/dist-packages (from gensim) (4.2.0)\n"
          ],
          "name": "stdout"
        }
      ]
    },
    {
      "cell_type": "code",
      "metadata": {
        "colab": {
          "base_uri": "https://localhost:8080/"
        },
        "id": "lsBFWz97PMgj",
        "outputId": "422b04c2-c907-4def-d5c4-d32ff504943d"
      },
      "source": [
        "import gensim\n",
        "from gensim.models import Word2Vec\n",
        "# let's import some provided datasets from nltk to play around\n",
        "import nltk\n",
        "nltk.download('brown')\n",
        "from nltk.corpus import brown, movie_reviews, treebank"
      ],
      "execution_count": null,
      "outputs": [
        {
          "output_type": "stream",
          "text": [
            "[nltk_data] Downloading package brown to /root/nltk_data...\n",
            "[nltk_data]   Unzipping corpora/brown.zip.\n"
          ],
          "name": "stdout"
        }
      ]
    },
    {
      "cell_type": "code",
      "metadata": {
        "id": "1lLAuwaJQTZC"
      },
      "source": [
        "import numpy as np"
      ],
      "execution_count": null,
      "outputs": []
    },
    {
      "cell_type": "code",
      "metadata": {
        "colab": {
          "base_uri": "https://localhost:8080/"
        },
        "id": "FJDfm6J6PrhB",
        "outputId": "ed5b8a21-2e14-4d7f-8623-a1d347aa0ccd"
      },
      "source": [
        "data = brown.sents()\n",
        "# in total, 57340 sentences\n",
        "len(data)"
      ],
      "execution_count": null,
      "outputs": [
        {
          "output_type": "execute_result",
          "data": {
            "text/plain": [
              "57340"
            ]
          },
          "metadata": {
            "tags": []
          },
          "execution_count": 17
        }
      ]
    },
    {
      "cell_type": "code",
      "metadata": {
        "colab": {
          "base_uri": "https://localhost:8080/"
        },
        "id": "K8Do-KU3Qbkq",
        "outputId": "7f160cd4-7c4f-452f-eb4c-7dd44256105b"
      },
      "source": [
        "# just take one sentence to observe\n",
        "data[9]"
      ],
      "execution_count": null,
      "outputs": [
        {
          "output_type": "execute_result",
          "data": {
            "text/plain": [
              "['The',\n",
              " 'City',\n",
              " 'Purchasing',\n",
              " 'Department',\n",
              " ',',\n",
              " 'the',\n",
              " 'jury',\n",
              " 'said',\n",
              " ',',\n",
              " '``',\n",
              " 'is',\n",
              " 'lacking',\n",
              " 'in',\n",
              " 'experienced',\n",
              " 'clerical',\n",
              " 'personnel',\n",
              " 'as',\n",
              " 'a',\n",
              " 'result',\n",
              " 'of',\n",
              " 'city',\n",
              " 'personnel',\n",
              " 'policies',\n",
              " \"''\",\n",
              " '.']"
            ]
          },
          "metadata": {
            "tags": []
          },
          "execution_count": 18
        }
      ]
    },
    {
      "cell_type": "code",
      "metadata": {
        "id": "1bTtq6h1Qo_B"
      },
      "source": [
        "# since the data from nltk has been already tokenized, we can skip the tokenization\n",
        "# let's create CBOW and skip-gram models with a window size = 5, each word in the model will have a 100d vector presentation\n",
        "cbow_model = Word2Vec(data, min_count = 1, size = 100, window = 5) \n",
        "sg_model = Word2Vec(data, min_count = 1, size = 100, window = 5, sg = 1) "
      ],
      "execution_count": null,
      "outputs": []
    },
    {
      "cell_type": "code",
      "metadata": {
        "colab": {
          "base_uri": "https://localhost:8080/"
        },
        "id": "eTlohFW6RVor",
        "outputId": "009d5a3f-11b5-45d9-a6fe-2ecab44a581d"
      },
      "source": [
        "# use 'hard' as an example\n",
        "hard_c = cbow_model['hard']\n",
        "hard_c.shape"
      ],
      "execution_count": null,
      "outputs": [
        {
          "output_type": "stream",
          "text": [
            "/usr/local/lib/python3.7/dist-packages/ipykernel_launcher.py:2: DeprecationWarning: Call to deprecated `__getitem__` (Method will be removed in 4.0.0, use self.wv.__getitem__() instead).\n",
            "  \n"
          ],
          "name": "stderr"
        },
        {
          "output_type": "execute_result",
          "data": {
            "text/plain": [
              "(100,)"
            ]
          },
          "metadata": {
            "tags": []
          },
          "execution_count": 27
        }
      ]
    },
    {
      "cell_type": "code",
      "metadata": {
        "colab": {
          "base_uri": "https://localhost:8080/"
        },
        "id": "ja18ZRECSuHq",
        "outputId": "9aa9c5d2-9100-4b2f-c3df-791515387375"
      },
      "source": [
        "# cosine similarity between 'hard' and 'difficult'\n",
        "cbow_model.similarity('hard','difficult')"
      ],
      "execution_count": null,
      "outputs": [
        {
          "output_type": "stream",
          "text": [
            "/usr/local/lib/python3.7/dist-packages/ipykernel_launcher.py:1: DeprecationWarning: Call to deprecated `similarity` (Method will be removed in 4.0.0, use self.wv.similarity() instead).\n",
            "  \"\"\"Entry point for launching an IPython kernel.\n"
          ],
          "name": "stderr"
        },
        {
          "output_type": "execute_result",
          "data": {
            "text/plain": [
              "0.8857782"
            ]
          },
          "metadata": {
            "tags": []
          },
          "execution_count": 29
        }
      ]
    },
    {
      "cell_type": "code",
      "metadata": {
        "colab": {
          "base_uri": "https://localhost:8080/"
        },
        "id": "AEDZw6MRRuMa",
        "outputId": "0f026d5a-b83b-4221-bced-93a3f3c48e95"
      },
      "source": [
        "# move to skip-gram model, let's use the same word 'hard'\n",
        "hard_s = sg_model['hard']\n",
        "hard_s.shape"
      ],
      "execution_count": null,
      "outputs": [
        {
          "output_type": "stream",
          "text": [
            "/usr/local/lib/python3.7/dist-packages/ipykernel_launcher.py:2: DeprecationWarning: Call to deprecated `__getitem__` (Method will be removed in 4.0.0, use self.wv.__getitem__() instead).\n",
            "  \n"
          ],
          "name": "stderr"
        },
        {
          "output_type": "execute_result",
          "data": {
            "text/plain": [
              "(100,)"
            ]
          },
          "metadata": {
            "tags": []
          },
          "execution_count": 31
        }
      ]
    },
    {
      "cell_type": "code",
      "metadata": {
        "id": "5rD0YVhMTFTS"
      },
      "source": [
        "# reuse the method for cosine similarity\n",
        "from numpy.linalg import norm\n",
        "def cos_sim(a, b):\n",
        "  return dot(a, b)/(norm(a)*norm(b))"
      ],
      "execution_count": null,
      "outputs": []
    },
    {
      "cell_type": "code",
      "metadata": {
        "colab": {
          "base_uri": "https://localhost:8080/"
        },
        "id": "fYnkXPC-UFWx",
        "outputId": "e270b373-422f-4c87-cd40-d8111e734133"
      },
      "source": [
        "# let's see the difference between two model presentation for the same word 'hard'\n",
        "cos_sim(hard_c,hard_s)"
      ],
      "execution_count": null,
      "outputs": [
        {
          "output_type": "execute_result",
          "data": {
            "text/plain": [
              "0.744982"
            ]
          },
          "metadata": {
            "tags": []
          },
          "execution_count": 34
        }
      ]
    }
  ]
}

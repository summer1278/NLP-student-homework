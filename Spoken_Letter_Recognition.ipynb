{
  "nbformat": 4,
  "nbformat_minor": 0,
  "metadata": {
    "colab": {
      "name": "Spoken Letter Recognition.ipynb",
      "provenance": [],
      "authorship_tag": "ABX9TyO/uCEXqzpfZjmhXyBn6ZWK",
      "include_colab_link": true
    },
    "kernelspec": {
      "name": "python3",
      "display_name": "Python 3"
    },
    "language_info": {
      "name": "python"
    }
  },
  "cells": [
    {
      "cell_type": "markdown",
      "metadata": {
        "id": "view-in-github",
        "colab_type": "text"
      },
      "source": [
        "<a href=\"https://colab.research.google.com/github/summer1278/NLP-student-homework/blob/main/Spoken_Letter_Recognition.ipynb\" target=\"_parent\"><img src=\"https://colab.research.google.com/assets/colab-badge.svg\" alt=\"Open In Colab\"/></a>"
      ]
    },
    {
      "cell_type": "code",
      "metadata": {
        "colab": {
          "base_uri": "https://localhost:8080/"
        },
        "id": "tor4wedAb-_V",
        "outputId": "e052c340-429d-4fb4-8972-c87d59362fd8"
      },
      "source": [
        "# mount my google drive for loading files directly from google drive\n",
        "from google.colab import drive\n",
        "drive.mount('/content/drive/')"
      ],
      "execution_count": null,
      "outputs": [
        {
          "output_type": "stream",
          "text": [
            "Mounted at /content/drive/\n"
          ],
          "name": "stdout"
        }
      ]
    },
    {
      "cell_type": "code",
      "metadata": {
        "colab": {
          "base_uri": "https://localhost:8080/",
          "height": 35
        },
        "id": "O5J7MSS-cGwq",
        "outputId": "d87c9d40-1e9e-4be8-9d76-4289eb28d85b"
      },
      "source": [
        "import os\n",
        "# change our working directory to the data directory we made on the goole drive\n",
        "os.chdir('/content/drive/My Drive/data/inbox-wav/splits')\n",
        "# we can confirm our current work dir\n",
        "os.getcwd()"
      ],
      "execution_count": null,
      "outputs": [
        {
          "output_type": "execute_result",
          "data": {
            "application/vnd.google.colaboratory.intrinsic+json": {
              "type": "string"
            },
            "text/plain": [
              "'/content/drive/My Drive/data/inbox-wav/splits'"
            ]
          },
          "metadata": {
            "tags": []
          },
          "execution_count": 2
        }
      ]
    },
    {
      "cell_type": "code",
      "metadata": {
        "colab": {
          "base_uri": "https://localhost:8080/"
        },
        "id": "phbaXCdBcPbC",
        "outputId": "5b989473-230e-4d2d-ba1c-00f51d24a192"
      },
      "source": [
        "import glob\n",
        "# find the all wav files in th dir\n",
        "wav_audios = glob.glob('**/*.wav',recursive = True)\n",
        "mp3_audios = glob.glob('**/*.mp3',recursive = True)\n",
        "audios = wav_audios+mp3_audios\n",
        "len(audios) "
      ],
      "execution_count": null,
      "outputs": [
        {
          "output_type": "execute_result",
          "data": {
            "text/plain": [
              "120"
            ]
          },
          "metadata": {
            "tags": []
          },
          "execution_count": 4
        }
      ]
    },
    {
      "cell_type": "code",
      "metadata": {
        "id": "li8PawIHcQ6S"
      },
      "source": [
        "# there are 3 letters (label)\n",
        "selected_letters = ['a','b','c']\n",
        "# construct a dataset for training and testing\n",
        "filenames = []\n",
        "labels = []\n",
        "for audio in audios:\n",
        "  for letter in selected_letters:\n",
        "    if letter == audio[:1]:\n",
        "      filenames.append(audio)\n",
        "      labels.append(letter)"
      ],
      "execution_count": null,
      "outputs": []
    },
    {
      "cell_type": "code",
      "metadata": {
        "colab": {
          "base_uri": "https://localhost:8080/"
        },
        "id": "b_u_yIRNcu-y",
        "outputId": "1fdaaf13-f24a-499c-a4e9-50a7342a48c2"
      },
      "source": [
        "len(filenames),len(labels)# 30 examples for each alphabet"
      ],
      "execution_count": null,
      "outputs": [
        {
          "output_type": "execute_result",
          "data": {
            "text/plain": [
              "(90, 90)"
            ]
          },
          "metadata": {
            "tags": []
          },
          "execution_count": 44
        }
      ]
    },
    {
      "cell_type": "code",
      "metadata": {
        "id": "sWN_JD-9dgIz"
      },
      "source": [
        "from librosa.feature import mfcc\n",
        "import librosa\n",
        "import numpy as np\n",
        "# extract mfccs from audio file\n",
        "def get_mfcc(audio_file):\n",
        "  y, sr = librosa.load(audio_file)\n",
        "  feat = mfcc(y=y, sr=sr, n_mfcc=40)\n",
        "  return feat"
      ],
      "execution_count": null,
      "outputs": []
    },
    {
      "cell_type": "code",
      "metadata": {
        "id": "1GBWVLIIeZDk"
      },
      "source": [
        "# we can use the mean of mfccs to train a simple classifier\n",
        "features = [np.mean(get_mfcc(a).T,axis=0) for a in filenames]"
      ],
      "execution_count": null,
      "outputs": []
    },
    {
      "cell_type": "code",
      "metadata": {
        "id": "Le3RLpZ8eh_y"
      },
      "source": [
        "from sklearn.model_selection import train_test_split\n",
        "from sklearn.metrics import accuracy_score\n",
        "# we make 80% for train and 20% for test\n",
        "X_train, X_test, y_train, y_test = train_test_split(np.array(features), labels, test_size=0.2, random_state=42,stratify = labels)"
      ],
      "execution_count": null,
      "outputs": []
    },
    {
      "cell_type": "code",
      "metadata": {
        "colab": {
          "base_uri": "https://localhost:8080/"
        },
        "id": "waZoQ0Hlelji",
        "outputId": "f2feb587-9f2c-4d21-c27a-a6cb36d3ce6a"
      },
      "source": [
        "X_train.shape, X_test.shape "
      ],
      "execution_count": null,
      "outputs": [
        {
          "output_type": "execute_result",
          "data": {
            "text/plain": [
              "((90, 40), (30, 40))"
            ]
          },
          "metadata": {
            "tags": []
          },
          "execution_count": 22
        }
      ]
    },
    {
      "cell_type": "code",
      "metadata": {
        "id": "jM7UnECVepGz"
      },
      "source": [
        "from sklearn.ensemble import RandomForestClassifier\n",
        "from sklearn.linear_model import SGDClassifier \n",
        "from sklearn.tree import DecisionTreeClassifier\n",
        "from sklearn.pipeline import make_pipeline\n",
        "\n",
        "from sklearn.preprocessing import StandardScaler\n",
        "\n",
        "# let's try three different classifiers to see how they differ\n",
        "rf = RandomForestClassifier(random_state=42)\n",
        "svm = make_pipeline(StandardScaler(), SGDClassifier(max_iter=1000, tol=1e-3))\n",
        "dt = DecisionTreeClassifier(random_state=42)"
      ],
      "execution_count": null,
      "outputs": []
    },
    {
      "cell_type": "code",
      "metadata": {
        "colab": {
          "base_uri": "https://localhost:8080/"
        },
        "id": "M9WqycK_ery6",
        "outputId": "51d22ef3-1757-4758-d910-4e0491480969"
      },
      "source": [
        "# Random Forest\n",
        "rf.fit(X_train,y_train)\n",
        "rf.score(X_test,y_test)"
      ],
      "execution_count": null,
      "outputs": [
        {
          "output_type": "execute_result",
          "data": {
            "text/plain": [
              "0.7777777777777778"
            ]
          },
          "metadata": {
            "tags": []
          },
          "execution_count": 46
        }
      ]
    },
    {
      "cell_type": "code",
      "metadata": {
        "colab": {
          "base_uri": "https://localhost:8080/"
        },
        "id": "wwtwVAB1eumD",
        "outputId": "405eb081-7ff7-4bb6-acba-d29c7b068b1f"
      },
      "source": [
        "# SVM\n",
        "svm.fit(X_train,y_train)\n",
        "svm.score(X_test,y_test)"
      ],
      "execution_count": null,
      "outputs": [
        {
          "output_type": "execute_result",
          "data": {
            "text/plain": [
              "0.8333333333333334"
            ]
          },
          "metadata": {
            "tags": []
          },
          "execution_count": 47
        }
      ]
    },
    {
      "cell_type": "code",
      "metadata": {
        "colab": {
          "base_uri": "https://localhost:8080/"
        },
        "id": "ixH469Oce1sM",
        "outputId": "af4fbbdd-a06d-43f6-d761-7575a4b4909e"
      },
      "source": [
        "# Decision Tree\n",
        "dt.fit(X_train,y_train)\n",
        "dt.score(X_test,y_test)"
      ],
      "execution_count": null,
      "outputs": [
        {
          "output_type": "execute_result",
          "data": {
            "text/plain": [
              "0.6111111111111112"
            ]
          },
          "metadata": {
            "tags": []
          },
          "execution_count": 48
        }
      ]
    }
  ]
}